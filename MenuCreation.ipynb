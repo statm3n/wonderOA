{
 "cells": [
  {
   "cell_type": "code",
   "execution_count": 1,
   "metadata": {},
   "outputs": [],
   "source": [
    "import itertools\n",
    "import time\n",
    "\n",
    "def menuGen(cuisine = ['A', 'B', 'C'], dish = [2, 2, 3]):\n",
    "    \"\"\" \n",
    "    Parameter:\n",
    "    @cuisine: list of cuisines, ex. ['A', 'B', 'C']\n",
    "    @dish: list of # dishes corresponding to each cuisine\n",
    "    \n",
    "    Assumptions:\n",
    "    len(cuisine) = len(dish)\n",
    "    dish only contains possitive integers\n",
    "    \"\"\"\n",
    "    timeout = time.time() + 60*1   # 1 minutes from now\n",
    "    res = []\n",
    "    for _ in itertools.product(*[list(range(1,l+1, 1)) for l in dish]):\n",
    "        if time.time() > timeout:\n",
    "            print('1 min timeout')\n",
    "            break\n",
    "        e = \" \".join([c+str(d) for c, d in zip(cuisine,list(_))])\n",
    "        res.append(e)\n",
    "        print(e)\n",
    "        print()\n",
    "    return res\n",
    "    "
   ]
  },
  {
   "cell_type": "code",
   "execution_count": 2,
   "metadata": {},
   "outputs": [
    {
     "name": "stdout",
     "output_type": "stream",
     "text": [
      "1 min timeout\n",
      "18094454\n"
     ]
    }
   ],
   "source": [
    "res = menuGen(cuisine=['A', 'B', 'C'], dish=[10000,10000,10000])\n",
    "print(len(res))\n",
    "## tested on 3 cuisines, 1 min 18,094,454 line returned"
   ]
  }
 ],
 "metadata": {
  "kernelspec": {
   "display_name": "Python 3",
   "language": "python",
   "name": "python3"
  },
  "language_info": {
   "codemirror_mode": {
    "name": "ipython",
    "version": 3
   },
   "file_extension": ".py",
   "mimetype": "text/x-python",
   "name": "python",
   "nbconvert_exporter": "python",
   "pygments_lexer": "ipython3",
   "version": "3.7.4"
  }
 },
 "nbformat": 4,
 "nbformat_minor": 4
}
